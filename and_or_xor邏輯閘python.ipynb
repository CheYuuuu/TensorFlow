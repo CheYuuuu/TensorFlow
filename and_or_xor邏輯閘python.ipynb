{
  "nbformat": 4,
  "nbformat_minor": 0,
  "metadata": {
    "colab": {
      "name": "and_or_xor邏輯閘 python.ipynb",
      "provenance": [],
      "authorship_tag": "ABX9TyPcrO3WpG37quDuDD8ZQTTI",
      "include_colab_link": true
    },
    "kernelspec": {
      "name": "python3",
      "display_name": "Python 3"
    },
    "language_info": {
      "name": "python"
    }
  },
  "cells": [
    {
      "cell_type": "markdown",
      "metadata": {
        "id": "view-in-github",
        "colab_type": "text"
      },
      "source": [
        "<a href=\"https://colab.research.google.com/github/CheYuuuu/TensorFlow/blob/main/and_or_xor%E9%82%8F%E8%BC%AF%E9%96%98_python.ipynb\" target=\"_parent\"><img src=\"https://colab.research.google.com/assets/colab-badge.svg\" alt=\"Open In Colab\"/></a>"
      ]
    },
    {
      "cell_type": "markdown",
      "metadata": {
        "id": "5iUr0-cubIMz"
      },
      "source": [
        "### 為何要自行設計？\n",
        "\n",
        "使用Keras可以迅速訓練出模型，但次數限定可能無法到達目標\n",
        "\n",
        "若依此設計可使用MSE大小決定何時停止訓練"
      ]
    },
    {
      "cell_type": "markdown",
      "metadata": {
        "id": "hcVyGhqoYenP"
      },
      "source": [
        "### 流程\n",
        "\n",
        "1. 設定初始值(輸入、目標、weight、神經元數目、神經元門檻值、Learning Rate)\n",
        "\n",
        "2. 選擇activative function(sigmoid, tanh, ReLU...等)\n",
        "\n",
        "3. iteration（順向計算-->使用梯度誤差往回修正weight和門檻值)-->直到MSE小於正確率或到達防呆次數\n"
      ]
    },
    {
      "cell_type": "code",
      "metadata": {
        "colab": {
          "base_uri": "https://localhost:8080/",
          "height": 814
        },
        "id": "ApJQQ2RJXhOJ",
        "outputId": "c4f2ffcc-8fea-43c5-ac05-a1b1e76741dd"
      },
      "source": [
        "import numpy as np\n",
        "import matplotlib.pyplot as plt\n",
        "import math\n",
        "import random\n",
        "#設定初始值\n",
        "xs = [(0.0,0.0),(0.0,1.0),(1.0,0.0),(1.0,1.0),] #input data #4*2的陣列\n",
        "for i in range(4):#列印出輸入矩陣(控制高度用列，寬度用行)\n",
        "    for j in range(2):\n",
        "        print(float(xs[i][j]),end='')\n",
        "    print()\n",
        "yd=[0.0, 0.0, 0.0, 0.0,] #目標矩陣(初始先設0)\n",
        "w=[0.0, 0.0, 0.0, 0.0, 0.0, 0.0] #W13, W14, W23, W24, W35, W45\n",
        "ya=[0.0, 0.0, 0.0] #Y3, Y4, Y5 三個神經元輸出\n",
        "theta=[0.0, 0.0, 0.0] #T3, T4, T5 三個神經元的門檻\n",
        "alpha=0.2 #Learning rate\n",
        "x=np.arange(-1,3,0.01) #繪圖範圍 -1~3,每0.01產生一筆資料\n",
        "epouch=0 #循環次數\n",
        "training_times= 0 #訓練次數\n",
        "MSElist=[]\n",
        "def line1(A): #自行設計直線函數,Y3\n",
        "    return (-A*w[0]+theta[0])/w[1]\n",
        "def line2(A): #自行設計直線函數,Y4\n",
        "    return (-A*w[2]+theta[1])/w[3]\n",
        "def axis(A): #設計軸線函數\n",
        "    return 0*A\n",
        "\n",
        "#weight 取亂數值\n",
        "for i in range(6):\n",
        "    w[i]=random.random() #0.0<w[i]<1.0\n",
        "    print('w%d= %f' % (i, w[i]))\n",
        "#請使用者輸入資料\n",
        "select = eval(input('輸入：1<AND>,2<OR>,3<XOR>: ')) #eval 轉換成可計算資料型態\n",
        "if select == 1:\n",
        "    yd=[0.0, 0.0, 0.0, 1.0]\n",
        "    plt.plot([0],[0],'bo')\n",
        "    plt.plot([0],[1],'bo')\n",
        "    plt.plot([1],[0],'bo')\n",
        "    plt.plot([1],[1],'ro')\n",
        "if select == 2:\n",
        "    yd=[0.0, 1.0, 1.0, 1.0]\n",
        "    plt.plot([0],[0],'ro')\n",
        "    plt.plot([0],[1],'bo')\n",
        "    plt.plot([1],[0],'bo')\n",
        "    plt.plot([1],[1],'bo')\n",
        "if select == 3:\n",
        "    yd=[0.0, 1.0, 1.0, 0.0]\n",
        "    plt.plot([0],[0],'ro')\n",
        "    plt.plot([0],[1],'bo')\n",
        "    plt.plot([1],[0],'bo')\n",
        "    plt.plot([1],[1],'ro')\n",
        "print('Your Learning Target is :\\n',yd)\n",
        "plt.plot(x,line1(x),'c-') #初始Ｙ3\n",
        "plt.plot(x,line2(x),'c--') #初始Y4\n",
        "plt.plot(x,axis(x),'k-') #draw x軸\n",
        "plt.plot(axis(x),x,'k-') #draw y軸\n",
        "#training loop\n",
        "SE=0.0 #Square Error\n",
        "Accuracy=0.0 #精確度\n",
        "MSE=1.0 #Mean Square Error\n",
        "Accuracy=eval(input('What is the MSE? Ex:0.01,0.001 or 0.0001: '))\n",
        "#eval : 將輸入值(字串)轉成evaluable\n",
        "while (MSE > Accuracy and epouch <100000): #step 4 , Iteration\n",
        "    epouch+=1\n",
        "    #print('epouch=',epouch)\n",
        "    SE=0.0 #SE是紀錄每次算的square erro，在迴圈最後一行是SE+= e*e，所以迴圈開始計算前先將SE歸零。\n",
        "    for i in range(4):\n",
        "        # SE=0.0\n",
        "    #step 2a\n",
        "        #feed forward  #calculate Y3 and Y4    \n",
        "        ya[0]=1.0/(1.0+math.exp(-(xs[i][0]*w[0]+xs[i][1]*w[1]-theta[0])))#Y3\n",
        "        ya[1]=1.0/(1.0+math.exp(-(xs[i][0]*w[2]+xs[i][1]*w[3]-theta[1])))#Y4\n",
        "    #step 2b  #calculate Y5\n",
        "        ya[2]=1.0/(1.0+math.exp(-(ya[0]*w[4]+ya[1]*w[5]-theta[2])))#Y5\n",
        "        #print('Y3=%f,Y4=%f,Y5=%f'%(ya[0],ya[1],ya[2]))\n",
        "    #step 3a\n",
        "        e=yd[i]-ya[2] #real error\n",
        "        ge5=ya[2]*(1.0-ya[2])*e #gradient error of Y5\n",
        "        #change weights (Learning)\n",
        "        #backward propragation\n",
        "        w[4]=w[4]+alpha*ya[0]*ge5 #change w35\n",
        "        w[5]=w[5]+alpha*ya[1]*ge5 #change w45\n",
        "        theta[2]=theta[2]+(-alpha)*ge5 #change theta5\n",
        "    #step 3b\n",
        "        #error backward calculate!!!!!!!!!   IMPORTANT\n",
        "        ge3=ya[0]*(1.0-ya[0])*ge5*w[4] #gradient error of Y1 with error-back\n",
        "        ge4=ya[1]*(1.0-ya[1])*ge5*w[5] #gradient error of Y2 with error-back\n",
        "        #change weights (Learning)\n",
        "        w[0]=w[0]+alpha*xs[i][0]*ge3 #change w13\n",
        "        w[1]=w[1]+alpha*xs[i][1]*ge3 #change w23\n",
        "        w[2]=w[2]+alpha*xs[i][0]*ge4 #change w14\n",
        "        w[3]=w[3]+alpha*xs[i][1]*ge4 #change w24\n",
        "        theta[0]= theta[0]+(-alpha)*ge3 #change theta 1\n",
        "        theta[1]= theta[1]+(-alpha)*ge4 #change theta 2\n",
        "        SE+=e*e  #accumulatte square error\n",
        "    MSE= SE/4.0 #計算每次循環之均方誤差值 (四筆資料的平均)\n",
        "    #print('MSE= ',MSE) \n",
        "    MSElist.append(MSE)\n",
        "print(\"======畫出調整後的紅直線，青色為原始設定線======\")\n",
        "plt.plot(x,line1(x),'r-')  #畫調整後直線Y3\n",
        "plt.plot(x,line2(x),'r--') #畫調整後直線Y4\n",
        "plt.xlabel('---x1---') #X座標軸說明\n",
        "plt.ylabel('---x2---') #Y座標軸說明\n",
        "plt.show()\n",
        "\n",
        "plt.plot((range(epouch)),MSElist) #顯示誤差圖形\n",
        "plt.xlabel('---Epouch No. ---') #X座標軸說明\n",
        "plt.ylabel('---MSE: Mean Square Error---') #Y座標軸說明\n",
        "plt.show()\n",
        "\n",
        "\n",
        "\n",
        "\n"
      ],
      "execution_count": 6,
      "outputs": [
        {
          "output_type": "stream",
          "name": "stdout",
          "text": [
            "0.00.0\n",
            "0.01.0\n",
            "1.00.0\n",
            "1.01.0\n",
            "w0= 0.045799\n",
            "w1= 0.468534\n",
            "w2= 0.061457\n",
            "w3= 0.663654\n",
            "w4= 0.170657\n",
            "w5= 0.588688\n",
            "輸入：1<AND>,2<OR>,3<XOR>: 3\n",
            "Your Learning Target is :\n",
            " [0.0, 1.0, 1.0, 0.0]\n",
            "What is the MSE? Ex:0.01,0.001 or 0.0001: 0.001\n",
            "======畫出調整後的紅直線，青色為原始設定線======\n"
          ]
        },
        {
          "output_type": "display_data",
          "data": {
            "image/png": "[encoded data removed]",
            "text/plain": [
              "<Figure size 432x288 with 1 Axes>"
            ]
          },
          "metadata": {
            "needs_background": "light"
          }
        },
        {
          "output_type": "display_data",
          "data": {
            "image/png": "[encoded data removed]",
            "text/plain": [
              "<Figure size 432x288 with 1 Axes>"
            ]
          },
          "metadata": {
            "needs_background": "light"
          }
        }
      ]
    }
  ]
}
