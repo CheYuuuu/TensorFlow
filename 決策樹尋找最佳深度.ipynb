{
  "nbformat": 4,
  "nbformat_minor": 0,
  "metadata": {
    "colab": {
      "name": "決策樹尋找最佳深度.ipynb",
      "provenance": [],
      "authorship_tag": "ABX9TyO+V8I8wh+BKrGlZf15nhi4",
      "include_colab_link": true
    },
    "kernelspec": {
      "name": "python3",
      "display_name": "Python 3"
    },
    "language_info": {
      "name": "python"
    }
  },
  "cells": [
    {
      "cell_type": "markdown",
      "metadata": {
        "id": "view-in-github",
        "colab_type": "text"
      },
      "source": [
        "<a href=\"https://colab.research.google.com/github/CheYuuuu/TensorFlow/blob/main/%E6%B1%BA%E7%AD%96%E6%A8%B9%E5%B0%8B%E6%89%BE%E6%9C%80%E4%BD%B3%E6%B7%B1%E5%BA%A6.ipynb\" target=\"_parent\"><img src=\"https://colab.research.google.com/assets/colab-badge.svg\" alt=\"Open In Colab\"/></a>"
      ]
    },
    {
      "cell_type": "code",
      "metadata": {
        "id": "AsS3OTuaYXmC"
      },
      "source": [
        "import numpy as np\n",
        "from sklearn.tree import DecisionTreeClassifier #決策樹分類\n",
        "from sklearn.metrics import accuracy_score #accuracy_score顯示正確率 \n",
        "from sklearn.model_selection import train_test_split #分成測試集與資料集\n",
        "from sklearn.model_selection import GridSearchCV #網格搜尋交叉驗證(找最好的max_depth)"
      ],
      "execution_count": 73,
      "outputs": []
    },
    {
      "cell_type": "code",
      "metadata": {
        "colab": {
          "base_uri": "https://localhost:8080/"
        },
        "id": "TfoKe2IqY3ZG",
        "outputId": "43f8fdf7-54af-4caa-a9a0-ac9a12c7ed29"
      },
      "source": [
        "#資料取得\n",
        "rnd = np.random.RandomState(17)\n",
        "Data = np.r_[rnd.normal(size=(1000,2)), rnd.normal(loc=2, size=(1000,2))]\n",
        "labels = np.r_[np.zeros(1000), np.ones(1000)]\n",
        "#畫分資料\n",
        "x_train, x_test, y_train, y_test = train_test_split(Data, labels, test_size=0.3)\n",
        "#建立模型\n",
        "tree = DecisionTreeClassifier(max_depth=5, random_state=17)\n",
        "tree.fit(x_train,y_train)\n",
        "#驗證模型\n",
        "y_hat = tree.predict(x_test) #算y的估計值\n",
        "\n",
        "print(f'accuracy of decision tree width max_depth=5 is {accuracy_score(y_test,y_hat)}')\n",
        "#把預測的y_hat 拿來跟y_test做比對，看正確率多少\n",
        "\n",
        "\n",
        "#尋找最佳深度，避免overfitting\n",
        "tree_params = {'max_depth':range(3,21,1)} #設定搜尋範圍\n",
        "tree_grid = GridSearchCV(tree, param_grid=tree_params, cv=5, n_jobs=-1)#初始化、CV交叉驗證分成5群、n_jobs同時進行幾個(依照電腦核心數)\n",
        "tree_grid.fit(x_train, y_train)\n",
        "print(f'Best Params is {tree_grid.best_params_}')\n",
        "print(f'Best score is {tree_grid.best_score_}')\n",
        "print(f'accuracy of tree_grid is {accuracy_score(y_test,tree_grid.predict(x_test))}') #最佳深度的正確率\n"
      ],
      "execution_count": 82,
      "outputs": [
        {
          "output_type": "stream",
          "name": "stdout",
          "text": [
            "accuracy of decision tree width max_depth=5 is 0.9016666666666666\n",
            "Best Params is {'max_depth': 4}\n",
            "Best score is 0.8907142857142857\n",
            "accuracy of tree_grid is 0.91\n"
          ]
        }
      ]
    }
  ]
}