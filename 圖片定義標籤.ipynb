{
  "cells": [
    {
      "cell_type": "code",
      "execution_count": 133,
      "metadata": {
        "id": "QGXxBuPyKJw1"
      },
      "outputs": [],
      "source": [
        "import tensorflow as tf"
      ]
    },
    {
      "cell_type": "code",
      "execution_count": 135,
      "metadata": {
        "colab": {
          "base_uri": "https://localhost:8080/"
        },
        "id": "rN-Pc6Zd6awg",
        "outputId": "b7cf649f-5c5e-41b5-c523-29e20a0f4116"
      },
      "outputs": [
        {
          "name": "stdout",
          "output_type": "stream",
          "text": [
            "/root/.keras/datasets/flower_photos\n"
          ]
        }
      ],
      "source": [
        "import pathlib\n",
        "data_root_orig = tf.keras.utils.get_file(origin='https://storage.googleapis.com/download.tensorflow.org/example_images/flower_photos.tgz',\n",
        "                                         fname='flower_photos', untar=True)\n",
        "                                         #從網址取得壓縮檔 (網址, 檔名, 解壓縮)\n",
        "data_root = pathlib.Path(data_root_orig) #載入解壓縮後檔案\n",
        "print(data_root)"
      ]
    },
    {
      "cell_type": "code",
      "execution_count": 136,
      "metadata": {
        "colab": {
          "base_uri": "https://localhost:8080/"
        },
        "id": "7onR_lWE7Njj",
        "outputId": "e7c862e5-d181-45c6-fe76-75ebadf57d67"
      },
      "outputs": [
        {
          "name": "stdout",
          "output_type": "stream",
          "text": [
            "/root/.keras/datasets/flower_photos/tulips\n",
            "/root/.keras/datasets/flower_photos/dandelion\n",
            "/root/.keras/datasets/flower_photos/roses\n",
            "/root/.keras/datasets/flower_photos/daisy\n",
            "/root/.keras/datasets/flower_photos/sunflowers\n",
            "/root/.keras/datasets/flower_photos/LICENSE.txt\n"
          ]
        }
      ],
      "source": [
        "for item in data_root.iterdir(): #得到目錄中所有路徑\n",
        "  print(item)"
      ]
    },
    {
      "cell_type": "code",
      "execution_count": 141,
      "metadata": {
        "colab": {
          "base_uri": "https://localhost:8080/"
        },
        "id": "ssUZ7Qh96UR3",
        "outputId": "2087fb1b-1c8c-4238-c529-f29e51193f6f"
      },
      "outputs": [
        {
          "data": {
            "text/plain": [
              "['daisy', 'dandelion', 'roses', 'sunflowers', 'tulips']"
            ]
          },
          "execution_count": 141,
          "metadata": {},
          "output_type": "execute_result"
        }
      ],
      "source": [
        "label_names = sorted(item.name for item in data_root.glob('*/') if item.is_dir())\n",
        "#排序並印出資料夾名稱\n",
        "label_names"
      ]
    },
    {
      "cell_type": "code",
      "execution_count": 142,
      "metadata": {
        "colab": {
          "base_uri": "https://localhost:8080/"
        },
        "id": "Y8pCV46CzPlp",
        "outputId": "b5687063-c43b-4a8b-b795-59b1e9ace165"
      },
      "outputs": [
        {
          "data": {
            "text/plain": [
              "{'daisy': 0, 'dandelion': 1, 'roses': 2, 'sunflowers': 3, 'tulips': 4}"
            ]
          },
          "execution_count": 142,
          "metadata": {},
          "output_type": "execute_result"
        }
      ],
      "source": [
        "label_to_index = dict((name, index) for index, name in enumerate(label_names))\n",
        "#給每個資料夾上編號\n",
        "label_to_index"
      ]
    },
    {
      "cell_type": "code",
      "execution_count": 143,
      "metadata": {
        "colab": {
          "base_uri": "https://localhost:8080/"
        },
        "id": "eD2lNsKeCVvg",
        "outputId": "cf7beed1-ee94-40e9-9924-5a2057396365"
      },
      "outputs": [
        {
          "name": "stdout",
          "output_type": "stream",
          "text": [
            "First 10 labels indices:  [2, 3, 1, 2, 1, 1, 3, 1, 3, 0]\n"
          ]
        }
      ],
      "source": [
        "all_image_labels = [label_to_index[pathlib.Path(path).parent.name] #parent.name獲取路徑父目錄\n",
        "                    for path in all_image_paths]\n",
        "\n",
        "print(\"First 10 labels indices: \", all_image_labels[:10]) #顯示10個來看看"
      ]
    },
    {
      "cell_type": "code",
      "execution_count": 148,
      "metadata": {
        "id": "HmUiZJNU73vA"
      },
      "outputs": [],
      "source": [
        "def preprocess_image(image):\n",
        "  image = tf.image.decode_jpeg(image, channels=3)\n",
        "  image = tf.image.resize(image, [192, 192])\n",
        "  image /= 255.0  # normalize to [0,1] range\n",
        "\n",
        "  return image"
      ]
    },
    {
      "cell_type": "code",
      "execution_count": 149,
      "metadata": {
        "id": "einETrJnO-em"
      },
      "outputs": [],
      "source": [
        "def load_and_preprocess_image(path):\n",
        "  image = tf.io.read_file(path)\n",
        "  return preprocess_image(image)"
      ]
    }
  ],
  "metadata": {
    "colab": {
      "collapsed_sections": [],
      "name": "images.ipynb",
      "provenance": []
    },
    "kernelspec": {
      "display_name": "Python 3",
      "name": "python3"
    }
  },
  "nbformat": 4,
  "nbformat_minor": 0
}
