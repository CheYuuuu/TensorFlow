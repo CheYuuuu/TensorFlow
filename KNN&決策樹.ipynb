{
  "nbformat": 4,
  "nbformat_minor": 0,
  "metadata": {
    "colab": {
      "name": "KNN&決策樹.ipynb",
      "provenance": [],
      "authorship_tag": "ABX9TyNljyeTKhClfbSzGuL3w6Rf",
      "include_colab_link": true
    },
    "kernelspec": {
      "name": "python3",
      "display_name": "Python 3"
    },
    "language_info": {
      "name": "python"
    }
  },
  "cells": [
    {
      "cell_type": "markdown",
      "metadata": {
        "id": "view-in-github",
        "colab_type": "text"
      },
      "source": [
        "<a href=\"https://colab.research.google.com/github/CheYuuuu/TensorFlow/blob/main/KNN%26%E6%B1%BA%E7%AD%96%E6%A8%B9.ipynb\" target=\"_parent\"><img src=\"https://colab.research.google.com/assets/colab-badge.svg\" alt=\"Open In Colab\"/></a>"
      ]
    },
    {
      "cell_type": "code",
      "metadata": {
        "id": "AsS3OTuaYXmC"
      },
      "source": [
        "from sklearn.tree import DecisionTreeClassifier #決策樹分類\n",
        "from sklearn.neighbors import KNeighborsClassifier # K鄰近分類\n",
        "from sklearn.metrics import accuracy_score #accuracy_score顯示正確率 \n",
        "from sklearn.model_selection import train_test_split #分成測試集與資料集"
      ],
      "execution_count": 64,
      "outputs": []
    },
    {
      "cell_type": "code",
      "metadata": {
        "colab": {
          "base_uri": "https://localhost:8080/"
        },
        "id": "TfoKe2IqY3ZG",
        "outputId": "baa89fab-9065-4fe7-ceac-1223f9344030"
      },
      "source": [
        "#load dataset\n",
        "from sklearn.datasets import load_digits\n",
        "data = load_digits()\n",
        "#find data and label\n",
        "x, y = data.data, data.target\n",
        "#train_test_split\n",
        "x_train, x_test, y_train, y_test = train_test_split(x, y, test_size=1/3.0)\n",
        "\n",
        "#KNN Classifier\n",
        "knn = KNeighborsClassifier(n_neighbors=5)\n",
        "knn.fit(x_train,y_train)\n",
        "y_pred = knn.predict(x_test)\n",
        "print('Results of KNN:')\n",
        "print(f'Accuacy of Training Set is {accuracy_score(y_train,knn.predict(x_train))}')\n",
        "print(f'Accuacy of Testing Set is {accuracy_score(y_test,y_pred)}')\n",
        "\n",
        "#DecisionTree Classifier\n",
        "tree = DecisionTreeClassifier(max_depth=9)\n",
        "tree.fit(x_train,y_train)\n",
        "y_pred = tree.predict(x_test)\n",
        "print('Results of DecisionTree:')\n",
        "print(f'Accuacy of Training Set is {accuracy_score(y_train,tree.predict(x_train))}')\n",
        "print(f'Accuacy of Testing Set is {accuracy_score(y_test,y_pred)}')"
      ],
      "execution_count": 65,
      "outputs": [
        {
          "output_type": "stream",
          "name": "stdout",
          "text": [
            "Results of KNN:\n",
            "Accuacy of Training Set is 0.986644407345576\n",
            "Accuacy of Testing Set is 0.994991652754591\n",
            "Results of DecisionTree:\n",
            "Accuacy of Training Set is 0.9666110183639399\n",
            "Accuacy of Testing Set is 0.8397328881469115\n"
          ]
        }
      ]
    }
  ]
}