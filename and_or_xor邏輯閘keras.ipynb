{
  "nbformat": 4,
  "nbformat_minor": 0,
  "metadata": {
    "colab": {
      "name": "and\b_or_xor邏輯閘keras.ipynb",
      "provenance": [],
      "authorship_tag": "ABX9TyPW1fZNhE+DuZWjatd0nzPX",
      "include_colab_link": true
    },
    "kernelspec": {
      "name": "python3",
      "display_name": "Python 3"
    },
    "language_info": {
      "name": "python"
    }
  },
  "cells": [
    {
      "cell_type": "markdown",
      "metadata": {
        "id": "view-in-github",
        "colab_type": "text"
      },
      "source": [
        "<a href=\"https://colab.research.google.com/github/CheYuuuu/TensorFlow/blob/main/and%08_or_xor%E9%82%8F%E8%BC%AF%E9%96%98keras.ipynb\" target=\"_parent\"><img src=\"https://colab.research.google.com/assets/colab-badge.svg\" alt=\"Open In Colab\"/></a>"
      ]
    },
    {
      "cell_type": "code",
      "metadata": {
        "colab": {
          "base_uri": "https://localhost:8080/",
          "height": 515
        },
        "id": "UlbiRK0LVrRd",
        "outputId": "74775964-5196-4f40-ea37-58acc911ae52"
      },
      "source": [
        "import tensorflow as tf\n",
        "import numpy as np\n",
        "import matplotlib.pyplot as plt\n",
        "\n",
        "x_train = [(0.0,0.0), (0.0,1.0), (1.0,0.0), (1.0,1.0)] #input data(training data)\n",
        "select = eval(input('Please select training target: And=>1 , Or=>2 , Xor=>3 \\n'))\n",
        "#desired output (Learning target)\n",
        "if select == 1:\n",
        "    y_train = [0.0, 0.0, 0.0, 1.0]\n",
        "if select == 2:\n",
        "    y_train = [0.0, 1.0, 1.0, 1.0]\n",
        "if select == 3:\n",
        "    y_train = [0.0, 1.0, 1.0, 0.0]\n",
        "\n",
        "In_neuron = 2 \n",
        "Hiden1_neuron = 10\n",
        "Hiden2_neuron = 10\n",
        "Out_neuron = 1\n",
        "Out_type = 2 \n",
        "TC = eval(input('How many training cycles: ')) #set up for training cycles\n",
        "\n",
        "#set up Neuron Network Frame: Two input, one output, one middle-Layer with two neurons,\n",
        "# activation = tanh\n",
        "model = tf.keras.models.Sequential([\n",
        "    tf.keras.layers.Dense( Hiden1_neuron, activation = tf.nn.sigmoid, input_dim = In_neuron),\n",
        "    tf.keras.layers.Dense( Hiden2_neuron, activation = tf.nn.sigmoid),\n",
        "    tf.keras.layers.Dense(Out_neuron, activation=tf.nn.sigmoid),\n",
        "    tf.keras.layers.Dense(Out_type, activation=tf.nn.softmax)])\n",
        "\n",
        "#Optimize\n",
        "model.compile(optimizer='adam',\n",
        "              loss='sparse_categorical_crossentropy',\n",
        "              metrics=['accuracy'])\n",
        "\n",
        "#Way of train: set up cycle times, record every cycles data in history\n",
        "history = model.fit(x_train, y_train,\n",
        "                    epochs=TC,\n",
        "                    batch_size=4,verbose=0)\n",
        "#solution predict \n",
        "x_test = np.array([[0.0,0.0], [0.0,1.0], [1.0,0.0], [1.0,1.0]]) #Test data\n",
        "print(x_test)\n",
        "y_test = model.predict(x_test) \n",
        "#test output, present by probability, bigger probability is the answer of predict \n",
        "print(y_test)\n",
        "#Through numpy.argmax show answer, numpy.argmax will choose bigger probability in array to be answer.\n",
        "print(\"answer after learning: \", \n",
        "      np.argmax(y_test[0]), np.argmax(y_test[1]), np.argmax(y_test[2]), np.argmax(y_test[3]))\n",
        "#plot error curve\n",
        "print(\"****Error Curve****\")\n",
        "#plt.plot(history.history['accuracy'])\n",
        "plt.plot(history.history['loss'])\n",
        "plt.xlabel('epoch')\n",
        "plt.ylabel('loss/accuracy')\n",
        "#plt.legend(['Accuracy', 'Loss'], loc='upper right')\n",
        "plt.show()\n",
        "\n",
        "\n"
      ],
      "execution_count": 2,
      "outputs": [
        {
          "output_type": "stream",
          "name": "stdout",
          "text": [
            "Please select training target: And=>1 , Or=>2 , Xor=>3 \n",
            "3\n",
            "How many training cycles: 1000\n",
            "[[0. 0.]\n",
            " [0. 1.]\n",
            " [1. 0.]\n",
            " [1. 1.]]\n",
            "[[0.49855265 0.5014473 ]\n",
            " [0.49457562 0.5054244 ]\n",
            " [0.5041998  0.49580014]\n",
            " [0.50237733 0.49762267]]\n",
            "answer after learning:  1 1 0 0\n",
            "****Error Curve****\n"
          ]
        },
        {
          "output_type": "display_data",
          "data": {
            "image/png": "[encoded data removed]",
            "text/plain": [
              "<Figure size 432x288 with 1 Axes>"
            ]
          },
          "metadata": {
            "needs_background": "light"
          }
        }
      ]
    }
  ]
}